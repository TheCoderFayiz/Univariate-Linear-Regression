{
  "nbformat": 4,
  "nbformat_minor": 0,
  "metadata": {
    "colab": {
      "name": "Standard Univariate Linear Regression.ipynb",
      "provenance": []
    },
    "kernelspec": {
      "name": "python3",
      "display_name": "Python 3"
    },
    "language_info": {
      "name": "python"
    }
  },
  "cells": [
    {
      "cell_type": "code",
      "source": [
        "import numpy as np\n",
        "import matplotlib.pyplot as plt"
      ],
      "metadata": {
        "id": "zA5E5f7gWEkj"
      },
      "execution_count": 82,
      "outputs": []
    },
    {
      "cell_type": "code",
      "source": [
        "#Y = 2X + 3\n",
        "x =[i for i in range(12)]\n",
        "y =[2 * i + 3 for i in range(12)]\n",
        "(w,b)=(0,0)\n",
        "r=0\n",
        "alpha=0.01"
      ],
      "metadata": {
        "id": "puTZwr2BH7Rs"
      },
      "execution_count": 85,
      "outputs": []
    },
    {
      "cell_type": "code",
      "execution_count": 73,
      "metadata": {
        "id": "jWLr3PSpfy0S"
      },
      "outputs": [],
      "source": [
        "def predict(x,w,b):\n",
        "  return w*x+b"
      ]
    },
    {
      "cell_type": "code",
      "source": [
        "def cost(x,y,w,b):\n",
        "  error=[]\n",
        "  for xi,yi in zip(x,y):\n",
        "    predicted=predict(xi,w,b)\n",
        "    difference=predicted-yi\n",
        "    error.append(difference)\n",
        "  loss=sum([i**2 for i in error])/(2*len(x))\n",
        "  return loss\n"
      ],
      "metadata": {
        "id": "cjsXUvbVFcs0"
      },
      "execution_count": 74,
      "outputs": []
    },
    {
      "cell_type": "code",
      "source": [
        "def cost_derivative(x,y,w,b,i):\n",
        "  return sum([(predict(xi,w,b)-yi)*1 if i==0 else (predict(xi,w,b)-yi)*xi for xi,yi in zip(x,y)])/len(x)\n"
      ],
      "metadata": {
        "id": "0rHMDeTGGeXw"
      },
      "execution_count": 75,
      "outputs": []
    },
    {
      "cell_type": "code",
      "source": [
        "def update_coeff(x,y,w,b,alpha,i):\n",
        "  if(i==1):\n",
        "    return w-alpha*cost_derivative(x,y,w,b,1)\n",
        "  else: return b-alpha*cost_derivative(x,y,w,b,0)"
      ],
      "metadata": {
        "id": "qCFDeC_HJZip"
      },
      "execution_count": 76,
      "outputs": []
    },
    {
      "cell_type": "code",
      "source": [
        "loss_list=np.zeros(5000)\n",
        "while(r<5000):\n",
        "  loss_list[r]=cost(x,y,w,b)\n",
        "  r+=1\n",
        "  w=update_coeff(x,y,w,b,alpha,1)\n",
        "  b=update_coeff(x,y,w,b,alpha,0)\n",
        "\n",
        "print(f'Updated value of w is {w} and b is {b}')"
      ],
      "metadata": {
        "colab": {
          "base_uri": "https://localhost:8080/"
        },
        "id": "LmQ39rZ0In-E",
        "outputId": "4074307a-2d40-401d-d3ec-f02af66c71a4"
      },
      "execution_count": 86,
      "outputs": [
        {
          "output_type": "stream",
          "name": "stdout",
          "text": [
            "Updated value of w is 2.0000003043937413 and b is 2.9999976818020317\n"
          ]
        }
      ]
    },
    {
      "cell_type": "code",
      "source": [
        "plt.plot(np.arange(50),loss_list[:50],c='r')\n",
        "plt.xlabel(\"Number of Epochs\")\n",
        "plt.ylabel(\"Loss\")\n",
        "plt.show()"
      ],
      "metadata": {
        "colab": {
          "base_uri": "https://localhost:8080/",
          "height": 279
        },
        "id": "fjUwFBdXUgT2",
        "outputId": "10c1e436-6d81-419b-e3df-e3d0dc1272bd"
      },
      "execution_count": 88,
      "outputs": [
        {
          "output_type": "display_data",
          "data": {
            "text/plain": [
              "<Figure size 432x288 with 1 Axes>"
            ],
            "image/png": "[encoded data removed]"
          },
          "metadata": {
            "needs_background": "light"
          }
        }
      ]
    }
  ]
}