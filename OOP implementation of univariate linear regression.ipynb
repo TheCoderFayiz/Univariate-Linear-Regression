{
  "nbformat": 4,
  "nbformat_minor": 0,
  "metadata": {
    "colab": {
      "name": "Univariate Linear Regression OOPS Model.ipynb",
      "provenance": []
    },
    "kernelspec": {
      "name": "python3",
      "display_name": "Python 3"
    },
    "language_info": {
      "name": "python"
    }
  },
  "cells": [
    {
      "cell_type": "code",
      "execution_count": 42,
      "metadata": {
        "id": "y_2QYmoaEj6r"
      },
      "outputs": [],
      "source": [
        "class LinearRegressor:\n",
        "  def __init__(self,x,y):\n",
        "    self.c=0\n",
        "    self.x=x\n",
        "    self.y=y\n",
        "    self.w=0\n",
        "    self.b=0\n",
        "    self.alpha=0.02\n",
        "    if(len(x)!=len(y)):\n",
        "      raise TypeError(\"x and y should have same number of elements\")\n",
        "  def predict(self,xi):\n",
        "    return self.w*xi+self.b\n",
        "  def cost_derivative(self,i):\n",
        "    if(i==0):\n",
        "      temp=sum([(self.predict(xi)-yi)*xi for xi,yi in zip(self.x,self.y)])/(2*len(self.x))\n",
        "    if(i==1):\n",
        "      temp=sum([(self.predict(xi)-yi)*1 for xi,yi in zip(self.x,self.y)])/(2*len(self.x))\n",
        "    return temp\n",
        "  def update(self):\n",
        "    self.w,self.b=self.w-self.alpha*self.cost_derivative(0),self.b-self.alpha*self.cost_derivative(1)\n",
        "  def stop_iter(self,max_epoch=5000):\n",
        "    self.c+=1\n",
        "    if(self.c==max_epoch):\n",
        "      return False\n",
        "    else:\n",
        "      return True\n",
        "  def fit(self):\n",
        "    while(self.stop_iter()):\n",
        "      self.update()\n",
        "    \n",
        "\n",
        "\n",
        "\n",
        "    "
      ]
    },
    {
      "cell_type": "code",
      "source": [
        "linearRegressor = LinearRegressor(\n",
        "        x =[i for i in range(12)],\n",
        "        y =[2 * i + 3 for i in range(12)]\n",
        "    )"
      ],
      "metadata": {
        "id": "g-_UK-pe-NTe"
      },
      "execution_count": 43,
      "outputs": []
    },
    {
      "cell_type": "code",
      "source": [
        "linearRegressor.fit()"
      ],
      "metadata": {
        "id": "v6Jn-u2B-Uqr"
      },
      "execution_count": 44,
      "outputs": []
    },
    {
      "cell_type": "code",
      "source": [
        "#predicts[2,3]\n",
        "print([linearRegressor.w,linearRegressor.b])"
      ],
      "metadata": {
        "colab": {
          "base_uri": "https://localhost:8080/"
        },
        "id": "V3zYzjolAUem",
        "outputId": "1da3be74-66ab-4513-e062-0450c379fc5a"
      },
      "execution_count": 45,
      "outputs": [
        {
          "output_type": "stream",
          "name": "stdout",
          "text": [
            "[2.000000321773129, 2.999997549328084]\n"
          ]
        }
      ]
    },
    {
      "cell_type": "code",
      "source": [
        "#predict27\n",
        "print(linearRegressor.predict(12))"
      ],
      "metadata": {
        "colab": {
          "base_uri": "https://localhost:8080/"
        },
        "id": "-iZXRcywAkcC",
        "outputId": "f0265c1d-b24a-4b99-a6ea-45106fdaa605"
      },
      "execution_count": 46,
      "outputs": [
        {
          "output_type": "stream",
          "name": "stdout",
          "text": [
            "27.000001410605634\n"
          ]
        }
      ]
    }
  ]
}